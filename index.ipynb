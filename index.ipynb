{
 "cells": [
  {
   "cell_type": "code",
   "execution_count": 34,
   "metadata": {
    "ExecuteTime": {
     "end_time": "2020-06-30T18:16:23.672644Z",
     "start_time": "2020-06-30T18:16:23.617094Z"
    }
   },
   "outputs": [],
   "source": [
    "from sklearn.datasets import load_breast_cancer\n",
    "from sklearn.model_selection import train_test_split, cross_val_score\n",
    "import pandas as pd\n",
    "import matplotlib.pyplot as plt\n",
    "from sklearn.preprocessing import StandardScaler, LabelEncoder\n",
    "from sklearn.impute import SimpleImputer\n",
    "import numpy as np\n",
    "from sklearn.linear_model import LogisticRegression\n",
    "from sklearn.metrics import make_scorer, recall_score, precision_score, f1_score, classification_report, accuracy_score"
   ]
  },
  {
   "cell_type": "code",
   "execution_count": 58,
   "metadata": {
    "ExecuteTime": {
     "end_time": "2020-06-30T19:05:28.404362Z",
     "start_time": "2020-06-30T19:05:28.334020Z"
    }
   },
   "outputs": [
    {
     "data": {
      "text/html": [
       "<div>\n",
       "<style scoped>\n",
       "    .dataframe tbody tr th:only-of-type {\n",
       "        vertical-align: middle;\n",
       "    }\n",
       "\n",
       "    .dataframe tbody tr th {\n",
       "        vertical-align: top;\n",
       "    }\n",
       "\n",
       "    .dataframe thead th {\n",
       "        text-align: right;\n",
       "    }\n",
       "</style>\n",
       "<table border=\"1\" class=\"dataframe\">\n",
       "  <thead>\n",
       "    <tr style=\"text-align: right;\">\n",
       "      <th></th>\n",
       "      <th>Unnamed: 0</th>\n",
       "      <th>age</th>\n",
       "      <th>workclass</th>\n",
       "      <th>education</th>\n",
       "      <th>education_num</th>\n",
       "      <th>marital_status</th>\n",
       "      <th>occupation</th>\n",
       "      <th>relationship</th>\n",
       "      <th>capital_gain</th>\n",
       "      <th>capital_loss</th>\n",
       "      <th>hours_per_week</th>\n",
       "      <th>native_country</th>\n",
       "      <th>income</th>\n",
       "    </tr>\n",
       "  </thead>\n",
       "  <tbody>\n",
       "    <tr>\n",
       "      <td>0</td>\n",
       "      <td>0</td>\n",
       "      <td>39.0</td>\n",
       "      <td>State-gov</td>\n",
       "      <td>Bachelors</td>\n",
       "      <td>13.0</td>\n",
       "      <td>Never-married</td>\n",
       "      <td>Adm-clerical</td>\n",
       "      <td>Not-in-family</td>\n",
       "      <td>1.0</td>\n",
       "      <td>0.0</td>\n",
       "      <td>40.0</td>\n",
       "      <td>United-States</td>\n",
       "      <td>0.0</td>\n",
       "    </tr>\n",
       "    <tr>\n",
       "      <td>1</td>\n",
       "      <td>1</td>\n",
       "      <td>50.0</td>\n",
       "      <td>Self-emp-not-inc</td>\n",
       "      <td>Bachelors</td>\n",
       "      <td>13.0</td>\n",
       "      <td>Married-civ-spouse</td>\n",
       "      <td>Exec-managerial</td>\n",
       "      <td>Husband</td>\n",
       "      <td>0.0</td>\n",
       "      <td>0.0</td>\n",
       "      <td>13.0</td>\n",
       "      <td>United-States</td>\n",
       "      <td>0.0</td>\n",
       "    </tr>\n",
       "  </tbody>\n",
       "</table>\n",
       "</div>"
      ],
      "text/plain": [
       "   Unnamed: 0   age          workclass   education  education_num  \\\n",
       "0           0  39.0          State-gov   Bachelors           13.0   \n",
       "1           1  50.0   Self-emp-not-inc   Bachelors           13.0   \n",
       "\n",
       "        marital_status        occupation    relationship  capital_gain  \\\n",
       "0        Never-married      Adm-clerical   Not-in-family           1.0   \n",
       "1   Married-civ-spouse   Exec-managerial         Husband           0.0   \n",
       "\n",
       "   capital_loss  hours_per_week  native_country  income  \n",
       "0           0.0            40.0   United-States     0.0  \n",
       "1           0.0            13.0   United-States     0.0  "
      ]
     },
     "execution_count": 58,
     "metadata": {},
     "output_type": "execute_result"
    }
   ],
   "source": [
    "df = pd.read_csv('income_evaluation.csv')\n",
    "df.head(2)"
   ]
  },
  {
   "cell_type": "code",
   "execution_count": 27,
   "metadata": {
    "ExecuteTime": {
     "end_time": "2020-06-30T18:05:18.148865Z",
     "start_time": "2020-06-30T18:05:18.129300Z"
    }
   },
   "outputs": [
    {
     "data": {
      "text/plain": [
       "Unnamed: 0         0\n",
       "age               31\n",
       "workclass         28\n",
       "education         33\n",
       "education_num     30\n",
       "marital_status    43\n",
       "occupation        27\n",
       "relationship      37\n",
       "capital_gain      18\n",
       "capital_loss      26\n",
       "hours_per_week    35\n",
       "native_country    30\n",
       "income            32\n",
       "dtype: int64"
      ]
     },
     "execution_count": 27,
     "metadata": {},
     "output_type": "execute_result"
    }
   ],
   "source": [
    "df.isna().sum()"
   ]
  },
  {
   "cell_type": "code",
   "execution_count": 59,
   "metadata": {
    "ExecuteTime": {
     "end_time": "2020-06-30T19:05:38.041974Z",
     "start_time": "2020-06-30T19:05:38.017029Z"
    }
   },
   "outputs": [
    {
     "name": "stderr",
     "output_type": "stream",
     "text": [
      "/Users/joel/anaconda3/envs/py3-6/lib/python3.6/site-packages/pandas/core/frame.py:4102: SettingWithCopyWarning: \n",
      "A value is trying to be set on a copy of a slice from a DataFrame\n",
      "\n",
      "See the caveats in the documentation: http://pandas.pydata.org/pandas-docs/stable/user_guide/indexing.html#returning-a-view-versus-a-copy\n",
      "  errors=errors,\n"
     ]
    }
   ],
   "source": [
    "df = df.iloc[:,1:]\n",
    "numbers = df.select_dtypes('number')\n",
    "numbers.drop('income', axis = 1, inplace =  True)\n",
    "\n",
    "X_train, X_test, y_train, y_test = train_test_split(numbers,df.income, random_state=2020)\n",
    "\n",
    "scaler = StandardScaler()\n",
    "scaler.fit(X_train)\n",
    "X_train = pd.DataFrame(scaler.transform(X_train), columns = X_train.columns)"
   ]
  },
  {
   "cell_type": "code",
   "execution_count": 63,
   "metadata": {
    "ExecuteTime": {
     "end_time": "2020-06-30T19:07:19.505806Z",
     "start_time": "2020-06-30T19:07:19.502553Z"
    }
   },
   "outputs": [],
   "source": [
    "first_model = LogisticRegression(random_state=2020, solver='liblinear')"
   ]
  },
  {
   "cell_type": "code",
   "execution_count": 64,
   "metadata": {
    "ExecuteTime": {
     "end_time": "2020-06-30T19:07:20.237638Z",
     "start_time": "2020-06-30T19:07:20.100665Z"
    },
    "scrolled": true
   },
   "outputs": [
    {
     "data": {
      "text/plain": [
       "array([0.79861693, 0.80804694, 0.79836512, 0.80528191, 0.80985325])"
      ]
     },
     "execution_count": 64,
     "metadata": {},
     "output_type": "execute_result"
    }
   ],
   "source": [
    "cross_val_score(first_model, X_train, y_train, cv=5)"
   ]
  },
  {
   "cell_type": "code",
   "execution_count": 65,
   "metadata": {
    "ExecuteTime": {
     "end_time": "2020-06-30T19:07:25.064775Z",
     "start_time": "2020-06-30T19:07:25.023146Z"
    }
   },
   "outputs": [
    {
     "data": {
      "text/plain": [
       "LogisticRegression(C=1.0, class_weight=None, dual=False, fit_intercept=True,\n",
       "                   intercept_scaling=1, l1_ratio=None, max_iter=100,\n",
       "                   multi_class='warn', n_jobs=None, penalty='l2',\n",
       "                   random_state=2020, solver='liblinear', tol=0.0001, verbose=0,\n",
       "                   warm_start=False)"
      ]
     },
     "execution_count": 65,
     "metadata": {},
     "output_type": "execute_result"
    }
   ],
   "source": [
    "first_model.fit(X_train, y_train)"
   ]
  },
  {
   "cell_type": "code",
   "execution_count": 305,
   "metadata": {
    "ExecuteTime": {
     "end_time": "2020-06-30T16:47:13.224082Z",
     "start_time": "2020-06-30T16:47:13.215639Z"
    }
   },
   "outputs": [],
   "source": [
    "def score_string(true, preds):\n",
    "    return f'''\\nAccuracy:   {np.round(accuracy_score(true, preds), decimals=2)}\\nPrecision:   {np.round(precision_score(true, preds), decimals=2)}\\nRecall:        {np.round(recall_score(true, preds), decimals=2)}\\nF1:             {np.round(f1_score(true, preds), decimals=2)}'''\n",
    "\n",
    "def evaluation(model):\n",
    "    fig,ax = plt.subplots(1,2, figsize=(12,12))\n",
    "    train_hat = model.predict(X_train)\n",
    "    test_hat = model.predict(X_test)\n",
    "\n",
    "    plot_confusion_matrix(model, X_train, y_train, cmap='Greens', ax=ax[0], normalize='true')\n",
    "\n",
    "    ax[0].text(0.3, 1.5,\n",
    "               score_string(y_train, train_hat), \n",
    "               ha='left', va='top', \n",
    "               transform=ax[0].transAxes, fontsize=15);\n",
    "\n",
    "    plot_confusion_matrix(model, X_test, y_test, cmap='Greens', ax=ax[1], normalize='true')\n",
    "\n",
    "    ax[1].text(0.3, 1.5,\n",
    "               score_string(y_test, test_hat), \n",
    "               ha='left', va='top', \n",
    "               transform=ax[1].transAxes, fontsize=15);\n",
    "    ax[0].text(0.3, 1.6,\n",
    "              'Train',\n",
    "              transform=ax[0].transAxes, fontsize=25);\n",
    "    ax[1].text(0.3, 1.6,\n",
    "              'Test',\n",
    "              transform=ax[1].transAxes, fontsize=25);\n"
   ]
  },
  {
   "cell_type": "code",
   "execution_count": 306,
   "metadata": {
    "ExecuteTime": {
     "end_time": "2020-06-30T16:47:14.529840Z",
     "start_time": "2020-06-30T16:47:14.107133Z"
    }
   },
   "outputs": [
    {
     "data": {
      "image/png": "[encoded data removed]",
      "text/plain": [
       "<Figure size 864x864 with 4 Axes>"
      ]
     },
     "metadata": {
      "needs_background": "light"
     },
     "output_type": "display_data"
    }
   ],
   "source": [
    "evaluation(first_model)"
   ]
  },
  {
   "cell_type": "code",
   "execution_count": 308,
   "metadata": {
    "ExecuteTime": {
     "end_time": "2020-06-30T16:48:19.143662Z",
     "start_time": "2020-06-30T16:48:19.073383Z"
    }
   },
   "outputs": [],
   "source": [
    "scaler = StandardScaler()\n",
    "X_train = pd.DataFrame(scaler.fit_transform(X_train), columns = X_train.columns)\n",
    "X_test = pd.DataFrame(scaler.transform(X_test), columns = X_test.columns)"
   ]
  },
  {
   "cell_type": "code",
   "execution_count": 311,
   "metadata": {
    "ExecuteTime": {
     "end_time": "2020-06-30T16:49:30.023785Z",
     "start_time": "2020-06-30T16:49:29.529524Z"
    }
   },
   "outputs": [
    {
     "data": {
      "image/png": "[encoded data removed]",
      "text/plain": [
       "<Figure size 864x864 with 4 Axes>"
      ]
     },
     "metadata": {
      "needs_background": "light"
     },
     "output_type": "display_data"
    }
   ],
   "source": [
    "first_model_scaled = LogisticRegression(random_state=2020)\n",
    "first_model_scaled.fit(X_train, y_train)\n",
    "evaluation(first_model_scaled)"
   ]
  },
  {
   "cell_type": "code",
   "execution_count": 29,
   "metadata": {
    "ExecuteTime": {
     "end_time": "2020-06-30T17:15:13.841842Z",
     "start_time": "2020-06-30T17:15:05.805032Z"
    }
   },
   "outputs": [],
   "source": [
    "def check():\n",
    "    return np.random.choice([False, True], p=[.999, .001])\n",
    "\n",
    "for row in df.index:\n",
    "    for idx in range(len(df.columns)):\n",
    "        if check():\n",
    "            df.iloc[row, idx] = np.nan"
   ]
  }
 ],
 "metadata": {
  "hide_input": false,
  "kernelspec": {
   "display_name": "Python 3",
   "language": "python",
   "name": "python3"
  },
  "language_info": {
   "codemirror_mode": {
    "name": "ipython",
    "version": 3
   },
   "file_extension": ".py",
   "mimetype": "text/x-python",
   "name": "python",
   "nbconvert_exporter": "python",
   "pygments_lexer": "ipython3",
   "version": "3.6.9"
  },
  "toc": {
   "base_numbering": 1,
   "nav_menu": {},
   "number_sections": false,
   "sideBar": true,
   "skip_h1_title": true,
   "title_cell": "Table of Contents",
   "title_sidebar": "Contents",
   "toc_cell": false,
   "toc_position": {},
   "toc_section_display": true,
   "toc_window_display": false
  },
  "varInspector": {
   "cols": {
    "lenName": 16,
    "lenType": 16,
    "lenVar": 40
   },
   "kernels_config": {
    "python": {
     "delete_cmd_postfix": "",
     "delete_cmd_prefix": "del ",
     "library": "var_list.py",
     "varRefreshCmd": "print(var_dic_list())"
    },
    "r": {
     "delete_cmd_postfix": ") ",
     "delete_cmd_prefix": "rm(",
     "library": "var_list.r",
     "varRefreshCmd": "cat(var_dic_list()) "
    }
   },
   "types_to_exclude": [
    "module",
    "function",
    "builtin_function_or_method",
    "instance",
    "_Feature"
   ],
   "window_display": false
  }
 },
 "nbformat": 4,
 "nbformat_minor": 2
}
